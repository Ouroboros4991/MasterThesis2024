{
 "cells": [
  {
   "cell_type": "code",
   "execution_count": null,
   "id": "63cdb3f9",
   "metadata": {},
   "outputs": [],
   "source": [
    "import pandas as pd\n",
    "import numpy as np"
   ]
  },
  {
   "cell_type": "code",
   "execution_count": null,
   "id": "d4de6ddb-716b-47ad-b8c8-cc7fbd5ca43d",
   "metadata": {},
   "outputs": [],
   "source": []
  },
  {
   "cell_type": "code",
   "execution_count": null,
   "id": "2dd21d90-f36d-4858-a9a2-515a23e0e69b",
   "metadata": {},
   "outputs": [],
   "source": [
    "BASE_FOLDER = './outputs/evaluation'"
   ]
  },
  {
   "cell_type": "code",
   "execution_count": null,
   "id": "78c73bf4-311f-45c2-8ecc-27b982696ea6",
   "metadata": {},
   "outputs": [],
   "source": [
    "def load_data(prefix, traffic):\n",
    "    df_single_episode = pd.read_csv(f'{BASE_FOLDER}/{prefix}_1_episode_{traffic}.csv')\n",
    "    df_single_episode = df_single_episode.set_index('step')\n",
    "    df_single_episode = df_single_episode.drop(columns=['cumulative_reward'])\n",
    "    \n",
    "    df_multiple_episodes = pd.read_csv(f'{BASE_FOLDER}/{prefix}_100_episode_{traffic}.csv')\n",
    "    df_multiple_episodes = df_multiple_episodes.set_index('episode')\n",
    "    # df_multiple_episodes = df_multiple_episodes.drop(columns=['cumulative_reward'])\n",
    "    return df_single_episode, df_multiple_episodes"
   ]
  },
  {
   "cell_type": "code",
   "execution_count": null,
   "id": "a4f56fb0",
   "metadata": {
    "scrolled": true
   },
   "outputs": [],
   "source": [
    "df_single_episode_ppo, df_multiple_episodes_ppo = load_data('ppo_500k_steps', 'custom-2way-single-intersection')"
   ]
  },
  {
   "cell_type": "code",
   "execution_count": null,
   "id": "64610af6",
   "metadata": {},
   "outputs": [],
   "source": [
    "df_single_episode_oc, df_multiple_episodes_oc = load_data('oc_2way_500k_steps', 'custom-2way-single-intersection')"
   ]
  },
  {
   "cell_type": "code",
   "execution_count": null,
   "id": "47eba693-b46e-42a1-9f0f-4ec73e19fc00",
   "metadata": {
    "scrolled": true
   },
   "outputs": [],
   "source": [
    "df_single_episode_forced, df_multiple_episodes_forced = load_data('oc_forced_500k_steps', 'custom-2way-single-intersection')"
   ]
  },
  {
   "cell_type": "code",
   "execution_count": null,
   "id": "99503dd8-9025-4bac-916f-39c95f2fa844",
   "metadata": {},
   "outputs": [],
   "source": [
    "df_single_episode_hd, df_multiple_episodes_hd = load_data('oc_hd_500k_steps', 'custom-2way-single-intersection')"
   ]
  },
  {
   "cell_type": "code",
   "execution_count": null,
   "id": "f49b1db1",
   "metadata": {
    "scrolled": true
   },
   "outputs": [],
   "source": [
    "def compare_datasets(datasets):\n",
    "    results = []\n",
    "    for name, df in datasets:\n",
    "        data = {\n",
    "            'dataset': name,\n",
    "            'avg_cumulative_reward': np.mean(df.cumulative_reward.to_list()),\n",
    "            'avg_waiting_time': np.mean(df.mean_waiting_time.to_list()),\n",
    "            'avg_speed': np.mean(df.mean_speed.to_list()),\n",
    "            'avg_lane_density': np.mean(df.mean_lane_density.to_list()),\n",
    "        }\n",
    "        results.append(data)\n",
    "    return pd.DataFrame(results)\n",
    "compare_datasets([\n",
    "    ('ppo', df_multiple_episodes_ppo),\n",
    "    ('option-critic', df_multiple_episodes_oc),\n",
    "    ('option-critic-forced', df_multiple_episodes_forced),\n",
    "    ('option-critic-hellinger-distance', df_multiple_episodes_hd),\n",
    "])"
   ]
  },
  {
   "cell_type": "code",
   "execution_count": null,
   "id": "46d02897",
   "metadata": {
    "scrolled": true
   },
   "outputs": [],
   "source": []
  },
  {
   "cell_type": "code",
   "execution_count": null,
   "id": "145239f3-8d9e-443f-9dda-cd9eed189e8c",
   "metadata": {
    "scrolled": false
   },
   "outputs": [],
   "source": [
    "df_single_episode_oc.lane_density.plot(grid=True, figsize=(15,15))"
   ]
  },
  {
   "cell_type": "code",
   "execution_count": null,
   "id": "9945e93d",
   "metadata": {},
   "outputs": [],
   "source": []
  },
  {
   "cell_type": "code",
   "execution_count": null,
   "id": "e6aecaaa",
   "metadata": {},
   "outputs": [],
   "source": []
  },
  {
   "cell_type": "code",
   "execution_count": null,
   "id": "c9d74883",
   "metadata": {},
   "outputs": [],
   "source": [
    "# Verify that the metrics are stable across multiple episodes"
   ]
  },
  {
   "cell_type": "code",
   "execution_count": null,
   "id": "4d993a1c",
   "metadata": {},
   "outputs": [],
   "source": []
  },
  {
   "cell_type": "code",
   "execution_count": null,
   "id": "82bdcdc0-8c46-4514-be2a-fe01c8a7d211",
   "metadata": {},
   "outputs": [],
   "source": []
  },
  {
   "cell_type": "code",
   "execution_count": null,
   "id": "5b09f30f",
   "metadata": {},
   "outputs": [],
   "source": []
  },
  {
   "cell_type": "code",
   "execution_count": null,
   "id": "160a1d1c",
   "metadata": {},
   "outputs": [],
   "source": []
  },
  {
   "cell_type": "code",
   "execution_count": null,
   "id": "a90a11ab-5421-4435-a85b-97a8a0748173",
   "metadata": {},
   "outputs": [],
   "source": []
  },
  {
   "cell_type": "code",
   "execution_count": null,
   "id": "ea097450-f551-4861-ab21-86b3de8481ea",
   "metadata": {},
   "outputs": [],
   "source": []
  }
 ],
 "metadata": {
  "kernelspec": {
   "display_name": "vub_sdms",
   "language": "python",
   "name": "vub_sdms"
  },
  "language_info": {
   "codemirror_mode": {
    "name": "ipython",
    "version": 3
   },
   "file_extension": ".py",
   "mimetype": "text/x-python",
   "name": "python",
   "nbconvert_exporter": "python",
   "pygments_lexer": "ipython3",
   "version": "3.9.20"
  }
 },
 "nbformat": 4,
 "nbformat_minor": 5
}
