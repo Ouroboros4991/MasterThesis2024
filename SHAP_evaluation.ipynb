{
 "cells": [
  {
   "cell_type": "code",
   "execution_count": 1,
   "id": "3a83fb5f",
   "metadata": {},
   "outputs": [
    {
     "name": "stderr",
     "output_type": "stream",
     "text": [
      "/home/ruben/Documents/virtualenv/vub_sdms/lib/python3.9/site-packages/tqdm/auto.py:21: TqdmWarning: IProgress not found. Please update jupyter and ipywidgets. See https://ipywidgets.readthedocs.io/en/stable/user_install.html\n",
      "  from .autonotebook import tqdm as notebook_tqdm\n"
     ]
    }
   ],
   "source": [
    "import torch\n",
    "from torch import nn\n",
    "import shap\n",
    "import pandas as pd"
   ]
  },
  {
   "cell_type": "code",
   "execution_count": null,
   "id": "b1d3ac0c",
   "metadata": {
    "scrolled": true
   },
   "outputs": [],
   "source": []
  },
  {
   "cell_type": "code",
   "execution_count": null,
   "id": "4340e565",
   "metadata": {},
   "outputs": [],
   "source": [
    "class NeuralNetwork(nn.Module):\n",
    "    def __init__(self):\n",
    "        super().__init__()\n",
    "        self.flatten = nn.Flatten()\n",
    "        self.linear_relu_stack = nn.Sequential(\n",
    "            nn.Linear(64, 2)\n",
    "        )\n",
    "\n",
    "    def forward(self, x):\n",
    "        x = self.flatten(x)\n",
    "        logits = self.linear_relu_stack(x)\n",
    "        return logits"
   ]
  },
  {
   "cell_type": "code",
   "execution_count": null,
   "id": "9f6a6fa9",
   "metadata": {},
   "outputs": [],
   "source": [
    "model_params = torch.load(\n",
    "            \"./models/option_critic_2_options_custom-single-intersection.csv_4000000_steps\"\n",
    "        )['model_params']"
   ]
  },
  {
   "cell_type": "code",
   "execution_count": null,
   "id": "87bb20e8",
   "metadata": {},
   "outputs": [],
   "source": [
    "termination_state_dict = {\n",
    "    'linear_relu_stack.0.weight': model_params['terminations.weight'],\n",
    "    'linear_relu_stack.0.bias': model_params['terminations.bias']\n",
    "}"
   ]
  },
  {
   "cell_type": "code",
   "execution_count": null,
   "id": "3b708aed",
   "metadata": {},
   "outputs": [],
   "source": [
    "model = NeuralNetwork()\n",
    "model.load_state_dict(termination_state_dict)"
   ]
  },
  {
   "cell_type": "code",
   "execution_count": null,
   "id": "16177732",
   "metadata": {},
   "outputs": [],
   "source": []
  },
  {
   "cell_type": "code",
   "execution_count": null,
   "id": "6d444c32",
   "metadata": {},
   "outputs": [],
   "source": []
  },
  {
   "cell_type": "code",
   "execution_count": null,
   "id": "f83a665e",
   "metadata": {},
   "outputs": [],
   "source": []
  },
  {
   "cell_type": "code",
   "execution_count": null,
   "id": "65eb1ed1",
   "metadata": {},
   "outputs": [],
   "source": []
  },
  {
   "cell_type": "code",
   "execution_count": null,
   "id": "a7c4ecad",
   "metadata": {},
   "outputs": [],
   "source": [
    "explainer = shap.explainers.Linear(model, X_std)\n",
    "shap_values = explainer(X_std)"
   ]
  },
  {
   "cell_type": "code",
   "execution_count": null,
   "id": "20e0308f",
   "metadata": {},
   "outputs": [],
   "source": [
    "shap.plots.waterfall(shap_values[sample_ind], max_display=14)"
   ]
  },
  {
   "cell_type": "code",
   "execution_count": 2,
   "id": "6717215a",
   "metadata": {},
   "outputs": [],
   "source": []
  },
  {
   "cell_type": "code",
   "execution_count": null,
   "id": "9e7da113",
   "metadata": {},
   "outputs": [],
   "source": []
  },
  {
   "cell_type": "code",
   "execution_count": null,
   "id": "a4ef17d1",
   "metadata": {},
   "outputs": [],
   "source": []
  }
 ],
 "metadata": {
  "kernelspec": {
   "display_name": "vub_sdms",
   "language": "python",
   "name": "vub_sdms"
  },
  "language_info": {
   "codemirror_mode": {
    "name": "ipython",
    "version": 3
   },
   "file_extension": ".py",
   "mimetype": "text/x-python",
   "name": "python",
   "nbconvert_exporter": "python",
   "pygments_lexer": "ipython3",
   "version": "3.9.20"
  }
 },
 "nbformat": 4,
 "nbformat_minor": 5
}
