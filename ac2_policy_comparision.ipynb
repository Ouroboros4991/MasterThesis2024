{
 "cells": [
  {
   "cell_type": "code",
   "execution_count": 27,
   "id": "85d19322-3809-497a-a168-c2b15ed98f38",
   "metadata": {},
   "outputs": [],
   "source": [
    "import pandas as pd\n",
    "import numpy as np\n",
    "import shap\n",
    "import torch\n",
    "from torch import nn\n",
    "import scipy.stats\n",
    "import matplotlib.pyplot as plt\n",
    "import plotly.express as px\n",
    "\n",
    "import json\n",
    "import xmltodict\n",
    "\n",
    "import stable_baselines3\n",
    "\n",
    "from agents.actor_critic_agent import CustomActorCritic\n",
    "from agents.option_networks import ReluNetwork\n"
   ]
  },
  {
   "cell_type": "code",
   "execution_count": null,
   "id": "650c22eb-945c-4021-a4c8-023d1ee06822",
   "metadata": {
    "scrolled": true
   },
   "outputs": [],
   "source": []
  },
  {
   "cell_type": "code",
   "execution_count": 22,
   "id": "00588c02-be7e-442c-b394-3bd761c5d6f0",
   "metadata": {},
   "outputs": [],
   "source": [
    "BASE_FOLDER = './evaluations'\n",
    "MODEL_HIGH = \"actor_critic_custom-2way-single-intersection-high_50000_steps\"\n",
    "MODEL_LOW = \"actor_critic_custom-2way-single-intersection-low_50000_steps\""
   ]
  },
  {
   "cell_type": "code",
   "execution_count": null,
   "id": "68d513c2",
   "metadata": {},
   "outputs": [],
   "source": []
  },
  {
   "cell_type": "code",
   "execution_count": 13,
   "id": "c3d663a4-8e0e-40fb-adf2-abce33242d97",
   "metadata": {},
   "outputs": [],
   "source": [
    "def to_tensor(obs):\n",
    "    obs = np.asarray(obs)\n",
    "    obs = torch.from_numpy(obs).float()\n",
    "    return obs\n",
    "\n",
    "def load_data(prefix, traffic):\n",
    "    df_single_episode = pd.read_csv(f'{BASE_FOLDER}/{prefix}_{traffic}_1_episode.csv')\n",
    "    df_single_episode = df_single_episode.set_index('step')\n",
    "    df_single_episode = df_single_episode.drop(columns=['cumulative_reward'])\n",
    "    \n",
    "    df_multiple_episodes = pd.read_csv(f'{BASE_FOLDER}/{prefix}_{traffic}_100_episode.csv')\n",
    "    df_multiple_episodes = df_multiple_episodes.set_index('episode')\n",
    "    # df_multiple_episodes = df_multiple_episodes.drop(columns=['cumulative_reward'])\n",
    "    return df_single_episode, df_multiple_episodes\n",
    "\n",
    "def compare_datasets(datasets):\n",
    "    results = []\n",
    "    for name, df in datasets:\n",
    "        data = {\n",
    "            'dataset': name,\n",
    "            'avg_cumulative_reward': np.mean(df.cumulative_reward.to_list()),\n",
    "            # 'mean_waiting_time': np.mean(df.mean_waiting_time.to_list()),\n",
    "            \n",
    "            'avg_travel_time': np.mean(df.avg_travel_time.to_list()),\n",
    "            'avg_time_loss': np.mean(df.avg_time_loss.to_list()),\n",
    "            'avg_waiting_time': np.mean(df.avg_waiting_time.to_list()),\n",
    "\n",
    "            'collisions': np.mean(df.collisions.to_list()),\n",
    "            'emergency_braking': np.mean(df.emergency_braking.to_list()),\n",
    "            'emergency_stops': np.mean(df.emergency_stops.to_list()),\n",
    "\n",
    "#             'mean_speed': np.mean(df.mean_speed.to_list()),\n",
    "            'mean_lane_density': np.mean(df.mean_lane_density.to_list()),\n",
    "            'mean_queue': np.mean(df.mean_queue_length.to_list()),\n",
    "\n",
    "        }\n",
    "        results.append(data)\n",
    "    return pd.DataFrame(results)"
   ]
  },
  {
   "cell_type": "code",
   "execution_count": 23,
   "id": "e2378e6e",
   "metadata": {
    "scrolled": true
   },
   "outputs": [
    {
     "data": {
      "text/html": [
       "<div>\n",
       "<style scoped>\n",
       "    .dataframe tbody tr th:only-of-type {\n",
       "        vertical-align: middle;\n",
       "    }\n",
       "\n",
       "    .dataframe tbody tr th {\n",
       "        vertical-align: top;\n",
       "    }\n",
       "\n",
       "    .dataframe thead th {\n",
       "        text-align: right;\n",
       "    }\n",
       "</style>\n",
       "<table border=\"1\" class=\"dataframe\">\n",
       "  <thead>\n",
       "    <tr style=\"text-align: right;\">\n",
       "      <th></th>\n",
       "      <th>dataset</th>\n",
       "      <th>avg_cumulative_reward</th>\n",
       "      <th>avg_travel_time</th>\n",
       "      <th>avg_time_loss</th>\n",
       "      <th>avg_waiting_time</th>\n",
       "      <th>collisions</th>\n",
       "      <th>emergency_braking</th>\n",
       "      <th>emergency_stops</th>\n",
       "      <th>mean_lane_density</th>\n",
       "      <th>mean_queue</th>\n",
       "    </tr>\n",
       "  </thead>\n",
       "  <tbody>\n",
       "    <tr>\n",
       "      <th>0</th>\n",
       "      <td>actor_critic_custom-2way-single-intersection-h...</td>\n",
       "      <td>1109.870055</td>\n",
       "      <td>22.763808</td>\n",
       "      <td>1.2014</td>\n",
       "      <td>0.0485</td>\n",
       "      <td>0.0</td>\n",
       "      <td>0.0</td>\n",
       "      <td>0.0</td>\n",
       "      <td>2.127585</td>\n",
       "      <td>39.08465</td>\n",
       "    </tr>\n",
       "    <tr>\n",
       "      <th>1</th>\n",
       "      <td>actor_critic_custom-2way-single-intersection-l...</td>\n",
       "      <td>1104.352830</td>\n",
       "      <td>22.616274</td>\n",
       "      <td>1.1595</td>\n",
       "      <td>0.0000</td>\n",
       "      <td>0.0</td>\n",
       "      <td>0.0</td>\n",
       "      <td>0.0</td>\n",
       "      <td>2.143499</td>\n",
       "      <td>39.38060</td>\n",
       "    </tr>\n",
       "  </tbody>\n",
       "</table>\n",
       "</div>"
      ],
      "text/plain": [
       "                                             dataset  avg_cumulative_reward  \\\n",
       "0  actor_critic_custom-2way-single-intersection-h...            1109.870055   \n",
       "1  actor_critic_custom-2way-single-intersection-l...            1104.352830   \n",
       "\n",
       "   avg_travel_time  avg_time_loss  avg_waiting_time  collisions  \\\n",
       "0        22.763808         1.2014            0.0485         0.0   \n",
       "1        22.616274         1.1595            0.0000         0.0   \n",
       "\n",
       "   emergency_braking  emergency_stops  mean_lane_density  mean_queue  \n",
       "0                0.0              0.0           2.127585    39.08465  \n",
       "1                0.0              0.0           2.143499    39.38060  "
      ]
     },
     "execution_count": 23,
     "metadata": {},
     "output_type": "execute_result"
    }
   ],
   "source": [
    "traffic_scenario = 'custom-2way-single-intersection-low'\n",
    "prefix = [MODEL_HIGH, MODEL_LOW]\n",
    "datasets = [(p, load_data(p, traffic_scenario)[1]) for p in prefix]\n",
    "compare_datasets(datasets)"
   ]
  },
  {
   "cell_type": "code",
   "execution_count": 24,
   "id": "9ef0d9d4",
   "metadata": {
    "scrolled": true
   },
   "outputs": [
    {
     "data": {
      "text/html": [
       "<div>\n",
       "<style scoped>\n",
       "    .dataframe tbody tr th:only-of-type {\n",
       "        vertical-align: middle;\n",
       "    }\n",
       "\n",
       "    .dataframe tbody tr th {\n",
       "        vertical-align: top;\n",
       "    }\n",
       "\n",
       "    .dataframe thead th {\n",
       "        text-align: right;\n",
       "    }\n",
       "</style>\n",
       "<table border=\"1\" class=\"dataframe\">\n",
       "  <thead>\n",
       "    <tr style=\"text-align: right;\">\n",
       "      <th></th>\n",
       "      <th>dataset</th>\n",
       "      <th>avg_cumulative_reward</th>\n",
       "      <th>avg_travel_time</th>\n",
       "      <th>avg_time_loss</th>\n",
       "      <th>avg_waiting_time</th>\n",
       "      <th>collisions</th>\n",
       "      <th>emergency_braking</th>\n",
       "      <th>emergency_stops</th>\n",
       "      <th>mean_lane_density</th>\n",
       "      <th>mean_queue</th>\n",
       "    </tr>\n",
       "  </thead>\n",
       "  <tbody>\n",
       "    <tr>\n",
       "      <th>0</th>\n",
       "      <td>actor_critic_custom-2way-single-intersection-h...</td>\n",
       "      <td>926.132638</td>\n",
       "      <td>23.285579</td>\n",
       "      <td>1.6608</td>\n",
       "      <td>0.0018</td>\n",
       "      <td>0.0</td>\n",
       "      <td>0.0</td>\n",
       "      <td>0.0</td>\n",
       "      <td>2.728513</td>\n",
       "      <td>48.9532</td>\n",
       "    </tr>\n",
       "    <tr>\n",
       "      <th>1</th>\n",
       "      <td>actor_critic_custom-2way-single-intersection-l...</td>\n",
       "      <td>937.186137</td>\n",
       "      <td>23.293608</td>\n",
       "      <td>1.6708</td>\n",
       "      <td>0.0002</td>\n",
       "      <td>0.0</td>\n",
       "      <td>0.0</td>\n",
       "      <td>0.0</td>\n",
       "      <td>2.667368</td>\n",
       "      <td>47.7867</td>\n",
       "    </tr>\n",
       "  </tbody>\n",
       "</table>\n",
       "</div>"
      ],
      "text/plain": [
       "                                             dataset  avg_cumulative_reward  \\\n",
       "0  actor_critic_custom-2way-single-intersection-h...             926.132638   \n",
       "1  actor_critic_custom-2way-single-intersection-l...             937.186137   \n",
       "\n",
       "   avg_travel_time  avg_time_loss  avg_waiting_time  collisions  \\\n",
       "0        23.285579         1.6608            0.0018         0.0   \n",
       "1        23.293608         1.6708            0.0002         0.0   \n",
       "\n",
       "   emergency_braking  emergency_stops  mean_lane_density  mean_queue  \n",
       "0                0.0              0.0           2.728513     48.9532  \n",
       "1                0.0              0.0           2.667368     47.7867  "
      ]
     },
     "execution_count": 24,
     "metadata": {},
     "output_type": "execute_result"
    }
   ],
   "source": [
    "traffic_scenario = 'custom-2way-single-intersection-high'\n",
    "prefix = [MODEL_HIGH, MODEL_LOW]\n",
    "datasets = [(p, load_data(p, traffic_scenario)[1]) for p in prefix]\n",
    "compare_datasets(datasets)"
   ]
  },
  {
   "cell_type": "code",
   "execution_count": 30,
   "id": "b188d153",
   "metadata": {},
   "outputs": [
    {
     "name": "stderr",
     "output_type": "stream",
     "text": [
      "/tmp/ipykernel_8871/1362746291.py:1: FutureWarning: You are using `torch.load` with `weights_only=False` (the current default value), which uses the default pickle module implicitly. It is possible to construct malicious pickle data which will execute arbitrary code during unpickling (See https://github.com/pytorch/pytorch/blob/main/SECURITY.md#untrusted-models for more details). In a future release, the default value for `weights_only` will be flipped to `True`. This limits the functions that could be executed during unpickling. Arbitrary objects will no longer be allowed to be loaded via this mode unless they are explicitly allowlisted by the user via `torch.serialization.add_safe_globals`. We recommend you start setting `weights_only=True` for any use case where you don't have full control of the loaded file. Please open an issue on GitHub for any issues related to this experimental feature.\n",
      "  model_high_params = torch.load(\n",
      "/tmp/ipykernel_8871/1362746291.py:10: FutureWarning: You are using `torch.load` with `weights_only=False` (the current default value), which uses the default pickle module implicitly. It is possible to construct malicious pickle data which will execute arbitrary code during unpickling (See https://github.com/pytorch/pytorch/blob/main/SECURITY.md#untrusted-models for more details). In a future release, the default value for `weights_only` will be flipped to `True`. This limits the functions that could be executed during unpickling. Arbitrary objects will no longer be allowed to be loaded via this mode unless they are explicitly allowlisted by the user via `torch.serialization.add_safe_globals`. We recommend you start setting `weights_only=True` for any use case where you don't have full control of the loaded file. Please open an issue on GitHub for any issues related to this experimental feature.\n",
      "  model_low_params = torch.load(\n"
     ]
    }
   ],
   "source": [
    "model_high_params = torch.load(\n",
    "    f\"./models/{MODEL_HIGH}\"\n",
    ")\n",
    "\n",
    "model_high_actor = ReluNetwork(\n",
    "    input_size=list(model_high_params['actor'].values())[0].shape[1],\n",
    "    output_size=list(model_high_params['actor'].values())[-1].shape[0],\n",
    "    device=\"cpu\")\n",
    "\n",
    "model_low_params = torch.load(\n",
    "    f\"./models/{MODEL_LOW}\"\n",
    ")\n",
    "\n",
    "model_low_actor = ReluNetwork(\n",
    "    input_size=list(model_low_params['actor'].values())[0].shape[1],\n",
    "    output_size=list(model_low_params['actor'].values())[-1].shape[0],\n",
    "    device=\"cpu\")\n"
   ]
  },
  {
   "cell_type": "code",
   "execution_count": null,
   "id": "9984cbaa",
   "metadata": {},
   "outputs": [],
   "source": []
  },
  {
   "cell_type": "code",
   "execution_count": 10,
   "id": "d5472fad-c488-45bb-92e3-b73fc2aafb30",
   "metadata": {
    "scrolled": true
   },
   "outputs": [],
   "source": [
    "model_high = stable_baselines3.PPO.load(\n",
    "    \"./models/a2c_custom-2way-single-intersection-high.zip\"\n",
    ")\n",
    "\n",
    "model_low = stable_baselines3.PPO.load(\n",
    "    \"./models/a2c_custom-2way-single-intersection-low.zip\"\n",
    ")"
   ]
  },
  {
   "cell_type": "code",
   "execution_count": 33,
   "id": "ac26dba0",
   "metadata": {},
   "outputs": [],
   "source": [
    "traffic = \"custom-2way-single-intersection-low\"\n",
    "df_single_episode, _ = load_data(MODEL_LOW, traffic)"
   ]
  },
  {
   "cell_type": "code",
   "execution_count": 36,
   "id": "929e8435",
   "metadata": {},
   "outputs": [
    {
     "data": {
      "text/plain": [
       "<Axes: xlabel='step'>"
      ]
     },
     "execution_count": 36,
     "metadata": {},
     "output_type": "execute_result"
    },
    {
     "data": {
      "image/png": "[encoded data removed]",
      "text/plain": [
       "<Figure size 640x480 with 1 Axes>"
      ]
     },
     "metadata": {},
     "output_type": "display_data"
    }
   ],
   "source": [
    "df_single_episode.action.plot()"
   ]
  },
  {
   "cell_type": "code",
   "execution_count": null,
   "id": "f489b805",
   "metadata": {},
   "outputs": [],
   "source": []
  },
  {
   "cell_type": "code",
   "execution_count": null,
   "id": "fbb84386",
   "metadata": {},
   "outputs": [],
   "source": []
  },
  {
   "cell_type": "code",
   "execution_count": null,
   "id": "67349735",
   "metadata": {},
   "outputs": [],
   "source": []
  },
  {
   "cell_type": "code",
   "execution_count": null,
   "id": "4b454867",
   "metadata": {},
   "outputs": [],
   "source": []
  },
  {
   "cell_type": "code",
   "execution_count": 15,
   "id": "8bc5ab43",
   "metadata": {},
   "outputs": [
    {
     "ename": "NameError",
     "evalue": "name 'n_options' is not defined",
     "output_type": "error",
     "traceback": [
      "\u001b[0;31m---------------------------------------------------------------------------\u001b[0m",
      "\u001b[0;31mNameError\u001b[0m                                 Traceback (most recent call last)",
      "Cell \u001b[0;32mIn[15], line 16\u001b[0m\n\u001b[1;32m     14\u001b[0m \u001b[38;5;28;01mfor\u001b[39;00m item \u001b[38;5;129;01min\u001b[39;00m results:\n\u001b[1;32m     15\u001b[0m     \u001b[38;5;28;01mfor\u001b[39;00m key, value \u001b[38;5;129;01min\u001b[39;00m item\u001b[38;5;241m.\u001b[39mitems():\n\u001b[0;32m---> 16\u001b[0m         \u001b[38;5;28;01mfor\u001b[39;00m option \u001b[38;5;129;01min\u001b[39;00m \u001b[38;5;28mrange\u001b[39m(\u001b[43mn_options\u001b[49m):\n\u001b[1;32m     17\u001b[0m             option_prob \u001b[38;5;241m=\u001b[39m \u001b[38;5;124mf\u001b[39m\u001b[38;5;124m'\u001b[39m\u001b[38;5;124mprob_option_\u001b[39m\u001b[38;5;132;01m{\u001b[39;00moption\u001b[38;5;132;01m}\u001b[39;00m\u001b[38;5;124m'\u001b[39m\n\u001b[1;32m     18\u001b[0m             avg_dist[key][option_prob] \u001b[38;5;241m+\u001b[39m\u001b[38;5;241m=\u001b[39m value[option_prob]\n",
      "\u001b[0;31mNameError\u001b[0m: name 'n_options' is not defined"
     ]
    }
   ],
   "source": [
    "results = []\n",
    "for _, row in df_single_episode.iterrows():\n",
    "    obs = [float(s.strip()) for s in row.obs.split(',')]\n",
    "    state = agent.get_state(to_tensor(obs))\n",
    "    option_distributions_dict = {}\n",
    "    for option in range(0, df_single_episode.option.max() + 1):\n",
    "        dist = get_action_dist(agent, state, option)[0]\n",
    "        for i, value in enumerate(dist):\n",
    "            if i not in option_distributions_dict:\n",
    "                option_distributions_dict[i] = {'action': i}\n",
    "            option_distributions_dict[i][f'prob_option_{option}'] = value        \n",
    "    results.append(option_distributions_dict)\n",
    "avg_dist = {key: {'action': key, 'prob_option_0': 0, 'prob_option_1': 0} for key in results[0].keys()}\n",
    "for item in results:\n",
    "    for key, value in item.items():\n",
    "        for option in range(n_options):\n",
    "            option_prob = f'prob_option_{option}'\n",
    "            avg_dist[key][option_prob] += value[option_prob]\n",
    "for _, value in avg_dist.items():\n",
    "    for option in range(n_options):\n",
    "        option_prob = f'prob_option_{option}'\n",
    "        value[option_prob] = value[option_prob] / len(results)\n",
    "df_avg_action_distributions = pd.DataFrame(list(avg_dist.values()))\n",
    "px.bar(\n",
    "    data_frame = df_avg_action_distributions,\n",
    "    x = \"action\",\n",
    "    y = [f'prob_option_{option}' for option in range(n_options)],\n",
    "    opacity = 0.9,\n",
    "    orientation = \"v\",\n",
    "    barmode = 'group',\n",
    ")"
   ]
  },
  {
   "cell_type": "code",
   "execution_count": null,
   "id": "a41848d2",
   "metadata": {
    "scrolled": true
   },
   "outputs": [],
   "source": []
  },
  {
   "cell_type": "code",
   "execution_count": null,
   "id": "0eeede02",
   "metadata": {
    "scrolled": true
   },
   "outputs": [],
   "source": []
  },
  {
   "cell_type": "code",
   "execution_count": null,
   "id": "cd37a5bd",
   "metadata": {},
   "outputs": [],
   "source": [
    "results = []\n",
    "for _, row in df_single_episode.iterrows():\n",
    "    obs = [float(s.strip()) for s in row.obs.split(',')]\n",
    "    state = agent.get_state(to_tensor(obs))\n",
    "    option_distributions_dict = {}\n",
    "    for option in range(0, df_single_episode.option.max() + 1):\n",
    "        dist = get_action_dist(agent, state, option)[0]\n",
    "        for i, value in enumerate(dist):\n",
    "            if i not in option_distributions_dict:\n",
    "                option_distributions_dict[i] = {'action': i}\n",
    "            option_distributions_dict[i][f'prob_option_{option}'] = value        \n",
    "    results.append(option_distributions_dict)\n",
    "avg_dist = {key: {'action': key, 'prob_option_0': 0, 'prob_option_1': 0} for key in results[0].keys()}\n",
    "n_options = 2\n",
    "for item in results:\n",
    "    for key, value in item.items():\n",
    "        for option in range(n_options):\n",
    "            option_prob = f'prob_option_{option}'\n",
    "            avg_dist[key][option_prob] += value[option_prob]\n",
    "for _, value in avg_dist.items():\n",
    "    for option in range(n_options):\n",
    "        option_prob = f'prob_option_{option}'\n",
    "        value[option_prob] = value[option_prob] / len(results)\n",
    "df_avg_action_distributions = pd.DataFrame(list(avg_dist.values()))\n",
    "px.bar(\n",
    "    data_frame = df_avg_action_distributions,\n",
    "    x = \"action\",\n",
    "    y = [f'prob_option_{option}' for option in range(n_options)],\n",
    "    opacity = 0.9,\n",
    "    orientation = \"v\",\n",
    "    barmode = 'group',\n",
    ")"
   ]
  },
  {
   "cell_type": "code",
   "execution_count": null,
   "id": "c85f30e4",
   "metadata": {},
   "outputs": [],
   "source": []
  },
  {
   "cell_type": "code",
   "execution_count": null,
   "id": "a42ec938",
   "metadata": {},
   "outputs": [],
   "source": []
  },
  {
   "cell_type": "code",
   "execution_count": null,
   "id": "03591d90",
   "metadata": {},
   "outputs": [],
   "source": []
  },
  {
   "cell_type": "code",
   "execution_count": null,
   "id": "8790895b",
   "metadata": {},
   "outputs": [],
   "source": []
  },
  {
   "cell_type": "code",
   "execution_count": null,
   "id": "e93a9b4c",
   "metadata": {},
   "outputs": [],
   "source": []
  },
  {
   "cell_type": "code",
   "execution_count": null,
   "id": "c50fca9e",
   "metadata": {},
   "outputs": [],
   "source": [
    "df_action_encoded = pd.get_dummies(df_single_episode[['action', 'option']], columns=['action', ])"
   ]
  },
  {
   "cell_type": "code",
   "execution_count": null,
   "id": "ce3b86f2",
   "metadata": {},
   "outputs": [],
   "source": [
    "df_action_encoded.groupby('option').sum()"
   ]
  },
  {
   "cell_type": "code",
   "execution_count": null,
   "id": "e6603bdf",
   "metadata": {},
   "outputs": [],
   "source": []
  },
  {
   "cell_type": "code",
   "execution_count": null,
   "id": "ecca80d2",
   "metadata": {},
   "outputs": [],
   "source": []
  },
  {
   "cell_type": "code",
   "execution_count": null,
   "id": "7e723cc1",
   "metadata": {},
   "outputs": [],
   "source": []
  },
  {
   "cell_type": "code",
   "execution_count": null,
   "id": "096f7e6d",
   "metadata": {},
   "outputs": [],
   "source": []
  },
  {
   "cell_type": "code",
   "execution_count": null,
   "id": "0703a940",
   "metadata": {},
   "outputs": [],
   "source": []
  },
  {
   "cell_type": "code",
   "execution_count": null,
   "id": "5dd7be3c",
   "metadata": {},
   "outputs": [],
   "source": []
  },
  {
   "cell_type": "code",
   "execution_count": null,
   "id": "bf61626e",
   "metadata": {},
   "outputs": [],
   "source": []
  },
  {
   "cell_type": "code",
   "execution_count": null,
   "id": "4a087f4e",
   "metadata": {},
   "outputs": [],
   "source": []
  },
  {
   "cell_type": "code",
   "execution_count": null,
   "id": "df3b7836",
   "metadata": {},
   "outputs": [],
   "source": []
  },
  {
   "cell_type": "code",
   "execution_count": null,
   "id": "9b27f279",
   "metadata": {
    "scrolled": true
   },
   "outputs": [],
   "source": []
  },
  {
   "cell_type": "code",
   "execution_count": null,
   "id": "a0ad5f4f",
   "metadata": {},
   "outputs": [],
   "source": []
  },
  {
   "cell_type": "code",
   "execution_count": null,
   "id": "4b048fad",
   "metadata": {},
   "outputs": [],
   "source": []
  },
  {
   "cell_type": "code",
   "execution_count": null,
   "id": "63e64718",
   "metadata": {},
   "outputs": [],
   "source": []
  },
  {
   "cell_type": "code",
   "execution_count": null,
   "id": "75f4cf77-27c7-4625-9f8e-84a484a7cb44",
   "metadata": {
    "scrolled": true
   },
   "outputs": [],
   "source": []
  },
  {
   "cell_type": "code",
   "execution_count": null,
   "id": "a582622a-4f19-4b3f-9b09-092aff73d486",
   "metadata": {
    "scrolled": true
   },
   "outputs": [],
   "source": []
  },
  {
   "cell_type": "code",
   "execution_count": null,
   "id": "97e79ce8",
   "metadata": {},
   "outputs": [],
   "source": []
  },
  {
   "cell_type": "code",
   "execution_count": null,
   "id": "9694d813",
   "metadata": {
    "scrolled": true
   },
   "outputs": [],
   "source": []
  },
  {
   "cell_type": "code",
   "execution_count": null,
   "id": "9d08bc1c-da3b-4ff1-ab81-017bfb5b5284",
   "metadata": {},
   "outputs": [],
   "source": []
  },
  {
   "cell_type": "code",
   "execution_count": null,
   "id": "92b148b9-be86-4e44-b3d5-173b950d7b39",
   "metadata": {},
   "outputs": [],
   "source": []
  },
  {
   "cell_type": "code",
   "execution_count": null,
   "id": "20330b30-0310-416a-ae01-29a9abed00c4",
   "metadata": {},
   "outputs": [],
   "source": []
  },
  {
   "cell_type": "code",
   "execution_count": null,
   "id": "deae88b0-1be6-4b34-a94e-6b9814f4812e",
   "metadata": {},
   "outputs": [],
   "source": []
  },
  {
   "cell_type": "code",
   "execution_count": null,
   "id": "89c3608c-8dda-4b42-b735-e82cb17c3ca5",
   "metadata": {},
   "outputs": [],
   "source": []
  },
  {
   "cell_type": "code",
   "execution_count": null,
   "id": "61ef9a96-3a62-4def-9231-55e1213bd154",
   "metadata": {},
   "outputs": [],
   "source": [
    "lanes = ['n_t_0', 'n_t_1', 'e_t_0', 'e_t_1', 's_t_0', 's_t_1', 'w_t_0', 'w_t_1']\n",
    "          0          1         2       3         4         5     6        7"
   ]
  },
  {
   "cell_type": "code",
   "execution_count": null,
   "id": "6fd589f1-f522-47a4-ae2c-54afa079185e",
   "metadata": {},
   "outputs": [],
   "source": [
    "# backup\n",
    "option_distributions = []\n",
    "for option in range(0, df_single_episode.option.max() + 1):\n",
    "    dist = get_action_dist(agent, state, option)[0]\n",
    "    for i, value in enumerate(dist):\n",
    "        dist_dict = {\n",
    "            'option': option\n",
    "        }\n",
    "        dist_dict[f'action'] = i\n",
    "        dist_dict[f'prob'] = value\n",
    "        option_distributions.append(dist_dict)\n",
    "df_option_distributions = pd.DataFrame(option_distributions)\n",
    "fig, ax = plt.subplots()\n",
    "\n",
    "for key, grp in df_option_distributions.groupby(['option']):\n",
    "    key = key[0]\n",
    "    ax = grp.plot(ax=ax, kind='line', x='action', y='prob', label=key)\n",
    "\n",
    "plt.legend(loc='best')\n",
    "plt.show()"
   ]
  }
 ],
 "metadata": {
  "kernelspec": {
   "display_name": "vub_sdms",
   "language": "python",
   "name": "vub_sdms"
  },
  "language_info": {
   "codemirror_mode": {
    "name": "ipython",
    "version": 3
   },
   "file_extension": ".py",
   "mimetype": "text/x-python",
   "name": "python",
   "nbconvert_exporter": "python",
   "pygments_lexer": "ipython3",
   "version": "3.9.21"
  }
 },
 "nbformat": 4,
 "nbformat_minor": 5
}
