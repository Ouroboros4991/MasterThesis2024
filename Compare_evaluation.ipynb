{
 "cells": [
  {
   "cell_type": "code",
   "execution_count": 1,
   "id": "63cdb3f9",
   "metadata": {},
   "outputs": [],
   "source": [
    "import pandas as pd\n",
    "import numpy as np"
   ]
  },
  {
   "cell_type": "code",
   "execution_count": null,
   "id": "d4de6ddb-716b-47ad-b8c8-cc7fbd5ca43d",
   "metadata": {},
   "outputs": [],
   "source": []
  },
  {
   "cell_type": "code",
   "execution_count": 2,
   "id": "2dd21d90-f36d-4858-a9a2-515a23e0e69b",
   "metadata": {},
   "outputs": [],
   "source": [
    "BASE_FOLDER = './outputs/evaluation'"
   ]
  },
  {
   "cell_type": "code",
   "execution_count": 35,
   "id": "78c73bf4-311f-45c2-8ecc-27b982696ea6",
   "metadata": {},
   "outputs": [],
   "source": [
    "def load_data(prefix, traffic):\n",
    "    df_single_episode = pd.read_csv(f'{BASE_FOLDER}/{prefix}_1_episode_{traffic}.csv')\n",
    "    df_single_episode = df_single_episode.set_index('step')\n",
    "    df_single_episode = df_single_episode.drop(columns=['cumulative_reward'])\n",
    "    \n",
    "    df_multiple_episodes = pd.read_csv(f'{BASE_FOLDER}/{prefix}_100_episode_{traffic}.csv')\n",
    "    df_multiple_episodes = df_multiple_episodes.set_index('episode')\n",
    "    # df_multiple_episodes = df_multiple_episodes.drop(columns=['cumulative_reward'])\n",
    "    return df_single_episode, df_multiple_episodes\n",
    "\n",
    "def compare_datasets(datasets):\n",
    "    results = []\n",
    "    for name, df in datasets:\n",
    "        data = {\n",
    "            'dataset': name,\n",
    "            'avg_cumulative_reward': np.mean(df.cumulative_reward.to_list()),\n",
    "            # 'mean_waiting_time': np.mean(df.mean_waiting_time.to_list()),\n",
    "            \n",
    "            'avg_travel_time': np.mean(df.avg_travel_time.to_list()),\n",
    "            'avg_time_loss': np.mean(df.avg_time_loss.to_list()),\n",
    "            'avg_waiting_time': np.mean(df.avg_waiting_time.to_list()),\n",
    "\n",
    "            'collisions': np.mean(df.collisions.to_list()),\n",
    "            'emergency_braking': np.mean(df.emergency_braking.to_list()),\n",
    "            'emergency_stops': np.mean(df.emergency_stops.to_list()),\n",
    "\n",
    "#             'mean_speed': np.mean(df.mean_speed.to_list()),\n",
    "            'mean_lane_density': np.mean(df.mean_lane_density.to_list()),\n",
    "            'mean_queue': np.mean(df.mean_queue_length.to_list()),\n",
    "\n",
    "        }\n",
    "        results.append(data)\n",
    "    return pd.DataFrame(results)"
   ]
  },
  {
   "cell_type": "code",
   "execution_count": 4,
   "id": "a4f56fb0",
   "metadata": {
    "scrolled": true
   },
   "outputs": [],
   "source": [
    "df_single_episode_ppo, df_multiple_episodes_ppo = load_data('ppo_500k_steps', 'custom-2way-single-intersection')"
   ]
  },
  {
   "cell_type": "code",
   "execution_count": 5,
   "id": "64610af6",
   "metadata": {},
   "outputs": [],
   "source": [
    "df_single_episode_oc, df_multiple_episodes_oc = load_data('oc_2way_500k_steps', 'custom-2way-single-intersection')"
   ]
  },
  {
   "cell_type": "code",
   "execution_count": 6,
   "id": "514788bc",
   "metadata": {},
   "outputs": [],
   "source": [
    "df_single_episode_oc_mil, df_multiple_episodes_oc_mil = load_data('oc_1mil_steps', 'custom-2way-single-intersection')"
   ]
  },
  {
   "cell_type": "code",
   "execution_count": 7,
   "id": "47eba693-b46e-42a1-9f0f-4ec73e19fc00",
   "metadata": {
    "scrolled": true
   },
   "outputs": [],
   "source": [
    "df_single_episode_forced, df_multiple_episodes_forced = load_data('oc_forced_500k_steps', 'custom-2way-single-intersection')"
   ]
  },
  {
   "cell_type": "code",
   "execution_count": 8,
   "id": "99503dd8-9025-4bac-916f-39c95f2fa844",
   "metadata": {},
   "outputs": [],
   "source": [
    "df_single_episode_hd, df_multiple_episodes_hd = load_data('oc_hd_500k_steps', 'custom-2way-single-intersection')"
   ]
  },
  {
   "cell_type": "code",
   "execution_count": 9,
   "id": "30eb491b",
   "metadata": {},
   "outputs": [],
   "source": [
    "df_single_episode_cost, df_multiple_episodes_cost = load_data('oc_cost_500k_steps', 'custom-2way-single-intersection')"
   ]
  },
  {
   "cell_type": "code",
   "execution_count": 13,
   "id": "c19dc862",
   "metadata": {
    "scrolled": true
   },
   "outputs": [],
   "source": [
    "df_single_episode_hd_sum, df_multiple_episodes_hd_sum = load_data('oc_hd_sum_steps', 'custom-2way-single-intersection')"
   ]
  },
  {
   "cell_type": "code",
   "execution_count": null,
   "id": "d9ddd85f",
   "metadata": {},
   "outputs": [],
   "source": []
  },
  {
   "cell_type": "code",
   "execution_count": null,
   "id": "09246465",
   "metadata": {},
   "outputs": [],
   "source": [
    "compare_datasets([\n",
    "    ('ppo', df_multiple_episodes_ppo),\n",
    "    ('option-critic', df_multiple_episodes_oc),\n",
    "    ('option-critic-1mil', df_multiple_episodes_oc),\n",
    "    ('option-critic-forced', df_multiple_episodes_forced),\n",
    "    ('option-critic-hellinger-distance', df_multiple_episodes_hd),\n",
    "    ('option-critic-hellinger-distance-sum', df_multiple_episodes_hd_sum),\n",
    "    ('option-critic-deliberation_cost', df_multiple_episodes_cost),\n",
    "])"
   ]
  },
  {
   "cell_type": "code",
   "execution_count": 36,
   "id": "06af2531",
   "metadata": {
    "scrolled": true
   },
   "outputs": [
    {
     "data": {
      "text/html": [
       "<div>\n",
       "<style scoped>\n",
       "    .dataframe tbody tr th:only-of-type {\n",
       "        vertical-align: middle;\n",
       "    }\n",
       "\n",
       "    .dataframe tbody tr th {\n",
       "        vertical-align: top;\n",
       "    }\n",
       "\n",
       "    .dataframe thead th {\n",
       "        text-align: right;\n",
       "    }\n",
       "</style>\n",
       "<table border=\"1\" class=\"dataframe\">\n",
       "  <thead>\n",
       "    <tr style=\"text-align: right;\">\n",
       "      <th></th>\n",
       "      <th>dataset</th>\n",
       "      <th>avg_cumulative_reward</th>\n",
       "      <th>avg_travel_time</th>\n",
       "      <th>avg_time_loss</th>\n",
       "      <th>avg_waiting_time</th>\n",
       "      <th>collisions</th>\n",
       "      <th>emergency_braking</th>\n",
       "      <th>emergency_stops</th>\n",
       "      <th>mean_lane_density</th>\n",
       "      <th>mean_queue</th>\n",
       "    </tr>\n",
       "  </thead>\n",
       "  <tbody>\n",
       "    <tr>\n",
       "      <th>0</th>\n",
       "      <td>fixed_period_15_steps</td>\n",
       "      <td>-25186.18</td>\n",
       "      <td>91.996109</td>\n",
       "      <td>69.0444</td>\n",
       "      <td>49.0154</td>\n",
       "      <td>0.0</td>\n",
       "      <td>0.01</td>\n",
       "      <td>0.0</td>\n",
       "      <td>2.287746</td>\n",
       "      <td>26.686722</td>\n",
       "    </tr>\n",
       "    <tr>\n",
       "      <th>1</th>\n",
       "      <td>fixed_period_30_steps</td>\n",
       "      <td>-29157.22</td>\n",
       "      <td>103.863111</td>\n",
       "      <td>80.9292</td>\n",
       "      <td>63.7006</td>\n",
       "      <td>0.0</td>\n",
       "      <td>0.00</td>\n",
       "      <td>0.0</td>\n",
       "      <td>2.815149</td>\n",
       "      <td>33.780139</td>\n",
       "    </tr>\n",
       "    <tr>\n",
       "      <th>2</th>\n",
       "      <td>dqn_cologne1</td>\n",
       "      <td>-5550.05</td>\n",
       "      <td>42.615365</td>\n",
       "      <td>19.8073</td>\n",
       "      <td>6.7848</td>\n",
       "      <td>0.0</td>\n",
       "      <td>0.29</td>\n",
       "      <td>0.0</td>\n",
       "      <td>0.924120</td>\n",
       "      <td>3.374903</td>\n",
       "    </tr>\n",
       "    <tr>\n",
       "      <th>3</th>\n",
       "      <td>ppo_cologne1</td>\n",
       "      <td>-6547.08</td>\n",
       "      <td>45.435389</td>\n",
       "      <td>22.6350</td>\n",
       "      <td>8.7755</td>\n",
       "      <td>0.0</td>\n",
       "      <td>0.42</td>\n",
       "      <td>0.0</td>\n",
       "      <td>1.000176</td>\n",
       "      <td>4.384847</td>\n",
       "    </tr>\n",
       "  </tbody>\n",
       "</table>\n",
       "</div>"
      ],
      "text/plain": [
       "                 dataset  avg_cumulative_reward  avg_travel_time  \\\n",
       "0  fixed_period_15_steps              -25186.18        91.996109   \n",
       "1  fixed_period_30_steps              -29157.22       103.863111   \n",
       "2           dqn_cologne1               -5550.05        42.615365   \n",
       "3           ppo_cologne1               -6547.08        45.435389   \n",
       "\n",
       "   avg_time_loss  avg_waiting_time  collisions  emergency_braking  \\\n",
       "0        69.0444           49.0154         0.0               0.01   \n",
       "1        80.9292           63.7006         0.0               0.00   \n",
       "2        19.8073            6.7848         0.0               0.29   \n",
       "3        22.6350            8.7755         0.0               0.42   \n",
       "\n",
       "   emergency_stops  mean_lane_density  mean_queue  \n",
       "0              0.0           2.287746   26.686722  \n",
       "1              0.0           2.815149   33.780139  \n",
       "2              0.0           0.924120    3.374903  \n",
       "3              0.0           1.000176    4.384847  "
      ]
     },
     "execution_count": 36,
     "metadata": {},
     "output_type": "execute_result"
    }
   ],
   "source": [
    "traffic_scenario = 'cologne1'\n",
    "prefix = ['fixed_period_15_steps', 'fixed_period_30_steps', 'dqn_cologne1', 'ppo_cologne1']\n",
    "datasets = [(p, load_data(p, traffic_scenario)[1]) for p in prefix]\n",
    "compare_datasets(datasets)"
   ]
  },
  {
   "cell_type": "code",
   "execution_count": null,
   "id": "f0a26697",
   "metadata": {},
   "outputs": [],
   "source": []
  },
  {
   "cell_type": "code",
   "execution_count": 32,
   "id": "f49b1db1",
   "metadata": {
    "scrolled": true
   },
   "outputs": [
    {
     "data": {
      "text/html": [
       "<div>\n",
       "<style scoped>\n",
       "    .dataframe tbody tr th:only-of-type {\n",
       "        vertical-align: middle;\n",
       "    }\n",
       "\n",
       "    .dataframe tbody tr th {\n",
       "        vertical-align: top;\n",
       "    }\n",
       "\n",
       "    .dataframe thead th {\n",
       "        text-align: right;\n",
       "    }\n",
       "</style>\n",
       "<table border=\"1\" class=\"dataframe\">\n",
       "  <thead>\n",
       "    <tr style=\"text-align: right;\">\n",
       "      <th></th>\n",
       "      <th>dataset</th>\n",
       "      <th>avg_cumulative_reward</th>\n",
       "      <th>avg_travel_time</th>\n",
       "      <th>avg_time_loss</th>\n",
       "      <th>avg_waiting_time</th>\n",
       "      <th>mean_lane_density</th>\n",
       "      <th>mean_queue</th>\n",
       "    </tr>\n",
       "  </thead>\n",
       "  <tbody>\n",
       "    <tr>\n",
       "      <th>0</th>\n",
       "      <td>dqn_cologne1</td>\n",
       "      <td>-5558.13</td>\n",
       "      <td>42.699756</td>\n",
       "      <td>19.8797</td>\n",
       "      <td>6.8324</td>\n",
       "      <td>0.925802</td>\n",
       "      <td>3.387014</td>\n",
       "    </tr>\n",
       "  </tbody>\n",
       "</table>\n",
       "</div>"
      ],
      "text/plain": [
       "        dataset  avg_cumulative_reward  avg_travel_time  avg_time_loss  \\\n",
       "0  dqn_cologne1               -5558.13        42.699756        19.8797   \n",
       "\n",
       "   avg_waiting_time  mean_lane_density  mean_queue  \n",
       "0            6.8324           0.925802    3.387014  "
      ]
     },
     "execution_count": 32,
     "metadata": {},
     "output_type": "execute_result"
    }
   ],
   "source": [
    "traffic_scenario = 'cologne1'\n",
    "prefix = 'dqn_cologne1'\n",
    "df_single_episode, df_multiple_episodes = load_data(prefix, traffic_scenario)\n",
    "datasets = [(prefix, df_multiple_episodes)]\n",
    "compare_datasets(datasets)"
   ]
  },
  {
   "cell_type": "code",
   "execution_count": null,
   "id": "46d02897",
   "metadata": {
    "scrolled": true
   },
   "outputs": [],
   "source": []
  },
  {
   "cell_type": "code",
   "execution_count": 16,
   "id": "145239f3-8d9e-443f-9dda-cd9eed189e8c",
   "metadata": {},
   "outputs": [
    {
     "data": {
      "text/plain": [
       "<AxesSubplot: xlabel='step'>"
      ]
     },
     "execution_count": 16,
     "metadata": {},
     "output_type": "execute_result"
    },
    {
     "data": {
      "image/png": "[encoded data removed]",
      "text/plain": [
       "<Figure size 1080x1080 with 1 Axes>"
      ]
     },
     "metadata": {
      "needs_background": "light"
     },
     "output_type": "display_data"
    }
   ],
   "source": [
    "df_single_episode_oc.lane_density.plot(grid=True, figsize=(15,15))"
   ]
  },
  {
   "cell_type": "code",
   "execution_count": null,
   "id": "9945e93d",
   "metadata": {},
   "outputs": [],
   "source": []
  },
  {
   "cell_type": "code",
   "execution_count": null,
   "id": "e6aecaaa",
   "metadata": {},
   "outputs": [],
   "source": []
  },
  {
   "cell_type": "code",
   "execution_count": null,
   "id": "c9d74883",
   "metadata": {},
   "outputs": [],
   "source": [
    "# Verify that the metrics are stable across multiple episodes"
   ]
  },
  {
   "cell_type": "code",
   "execution_count": null,
   "id": "4d993a1c",
   "metadata": {},
   "outputs": [],
   "source": []
  },
  {
   "cell_type": "code",
   "execution_count": null,
   "id": "82bdcdc0-8c46-4514-be2a-fe01c8a7d211",
   "metadata": {},
   "outputs": [],
   "source": []
  },
  {
   "cell_type": "code",
   "execution_count": null,
   "id": "5b09f30f",
   "metadata": {},
   "outputs": [],
   "source": []
  },
  {
   "cell_type": "code",
   "execution_count": null,
   "id": "160a1d1c",
   "metadata": {},
   "outputs": [],
   "source": []
  },
  {
   "cell_type": "code",
   "execution_count": null,
   "id": "a90a11ab-5421-4435-a85b-97a8a0748173",
   "metadata": {},
   "outputs": [],
   "source": []
  },
  {
   "cell_type": "code",
   "execution_count": null,
   "id": "ea097450-f551-4861-ab21-86b3de8481ea",
   "metadata": {},
   "outputs": [],
   "source": []
  }
 ],
 "metadata": {
  "kernelspec": {
   "display_name": "Python 3 (ipykernel)",
   "language": "python",
   "name": "python3"
  },
  "language_info": {
   "codemirror_mode": {
    "name": "ipython",
    "version": 3
   },
   "file_extension": ".py",
   "mimetype": "text/x-python",
   "name": "python",
   "nbconvert_exporter": "python",
   "pygments_lexer": "ipython3",
   "version": "3.8.10"
  }
 },
 "nbformat": 4,
 "nbformat_minor": 5
}
