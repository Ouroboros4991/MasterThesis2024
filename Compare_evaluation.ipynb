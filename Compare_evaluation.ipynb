{
 "cells": [
  {
   "cell_type": "code",
   "execution_count": 1,
   "id": "63cdb3f9",
   "metadata": {},
   "outputs": [],
   "source": [
    "import pandas as pd\n",
    "import numpy as np"
   ]
  },
  {
   "cell_type": "code",
   "execution_count": null,
   "id": "d4de6ddb-716b-47ad-b8c8-cc7fbd5ca43d",
   "metadata": {},
   "outputs": [],
   "source": []
  },
  {
   "cell_type": "code",
   "execution_count": 2,
   "id": "2dd21d90-f36d-4858-a9a2-515a23e0e69b",
   "metadata": {},
   "outputs": [],
   "source": [
    "BASE_FOLDER = './outputs/evaluation'"
   ]
  },
  {
   "cell_type": "code",
   "execution_count": 3,
   "id": "78c73bf4-311f-45c2-8ecc-27b982696ea6",
   "metadata": {},
   "outputs": [],
   "source": [
    "def load_data(prefix, traffic):\n",
    "    df_single_episode = pd.read_csv(f'{BASE_FOLDER}/{prefix}_1_episode_{traffic}.csv')\n",
    "    df_single_episode = df_single_episode.set_index('step')\n",
    "    df_single_episode = df_single_episode.drop(columns=['cumulative_reward'])\n",
    "    \n",
    "    df_multiple_episodes = pd.read_csv(f'{BASE_FOLDER}/{prefix}_100_episode_{traffic}.csv')\n",
    "    df_multiple_episodes = df_multiple_episodes.set_index('episode')\n",
    "    # df_multiple_episodes = df_multiple_episodes.drop(columns=['cumulative_reward'])\n",
    "    return df_single_episode, df_multiple_episodes"
   ]
  },
  {
   "cell_type": "code",
   "execution_count": 12,
   "id": "a4f56fb0",
   "metadata": {
    "scrolled": true
   },
   "outputs": [],
   "source": [
    "df_single_episode_ppo, df_multiple_episodes_ppo = load_data('ppo_500k_steps', 'custom-2way-single-intersection')"
   ]
  },
  {
   "cell_type": "code",
   "execution_count": 5,
   "id": "64610af6",
   "metadata": {},
   "outputs": [],
   "source": [
    "df_single_episode_oc, df_multiple_episodes_oc = load_data('oc_2way_500k_steps', 'custom-2way-single-intersection')"
   ]
  },
  {
   "cell_type": "code",
   "execution_count": 6,
   "id": "47eba693-b46e-42a1-9f0f-4ec73e19fc00",
   "metadata": {
    "scrolled": true
   },
   "outputs": [],
   "source": [
    "df_single_episode_forced, df_multiple_episodes_forced = load_data('oc_forced_500k_steps', 'custom-2way-single-intersection')"
   ]
  },
  {
   "cell_type": "code",
   "execution_count": 7,
   "id": "99503dd8-9025-4bac-916f-39c95f2fa844",
   "metadata": {},
   "outputs": [],
   "source": [
    "df_single_episode_hd, df_multiple_episodes_hd = load_data('oc_hd_500k_steps', 'custom-2way-single-intersection')"
   ]
  },
  {
   "cell_type": "code",
   "execution_count": 13,
   "id": "f49b1db1",
   "metadata": {
    "scrolled": true
   },
   "outputs": [
    {
     "data": {
      "text/html": [
       "<div>\n",
       "<style scoped>\n",
       "    .dataframe tbody tr th:only-of-type {\n",
       "        vertical-align: middle;\n",
       "    }\n",
       "\n",
       "    .dataframe tbody tr th {\n",
       "        vertical-align: top;\n",
       "    }\n",
       "\n",
       "    .dataframe thead th {\n",
       "        text-align: right;\n",
       "    }\n",
       "</style>\n",
       "<table border=\"1\" class=\"dataframe\">\n",
       "  <thead>\n",
       "    <tr style=\"text-align: right;\">\n",
       "      <th></th>\n",
       "      <th>dataset</th>\n",
       "      <th>avg_cumulative_reward</th>\n",
       "      <th>avg_waiting_time</th>\n",
       "      <th>avg_speed</th>\n",
       "      <th>avg_lane_density</th>\n",
       "    </tr>\n",
       "  </thead>\n",
       "  <tbody>\n",
       "    <tr>\n",
       "      <th>0</th>\n",
       "      <td>ppo</td>\n",
       "      <td>-72.2181</td>\n",
       "      <td>18.606818</td>\n",
       "      <td>1.978207</td>\n",
       "      <td>6.509729</td>\n",
       "    </tr>\n",
       "    <tr>\n",
       "      <th>1</th>\n",
       "      <td>option-critic</td>\n",
       "      <td>-93.0243</td>\n",
       "      <td>16.262444</td>\n",
       "      <td>1.902278</td>\n",
       "      <td>6.527275</td>\n",
       "    </tr>\n",
       "    <tr>\n",
       "      <th>2</th>\n",
       "      <td>option-critic-forced</td>\n",
       "      <td>-76.1476</td>\n",
       "      <td>12.932984</td>\n",
       "      <td>1.734398</td>\n",
       "      <td>6.815110</td>\n",
       "    </tr>\n",
       "    <tr>\n",
       "      <th>3</th>\n",
       "      <td>option-critic-hellinger-distance</td>\n",
       "      <td>-79.4785</td>\n",
       "      <td>15.875734</td>\n",
       "      <td>1.808722</td>\n",
       "      <td>6.676189</td>\n",
       "    </tr>\n",
       "  </tbody>\n",
       "</table>\n",
       "</div>"
      ],
      "text/plain": [
       "                            dataset  avg_cumulative_reward  avg_waiting_time  \\\n",
       "0                               ppo               -72.2181         18.606818   \n",
       "1                     option-critic               -93.0243         16.262444   \n",
       "2              option-critic-forced               -76.1476         12.932984   \n",
       "3  option-critic-hellinger-distance               -79.4785         15.875734   \n",
       "\n",
       "   avg_speed  avg_lane_density  \n",
       "0   1.978207          6.509729  \n",
       "1   1.902278          6.527275  \n",
       "2   1.734398          6.815110  \n",
       "3   1.808722          6.676189  "
      ]
     },
     "execution_count": 13,
     "metadata": {},
     "output_type": "execute_result"
    }
   ],
   "source": [
    "def compare_datasets(datasets):\n",
    "    results = []\n",
    "    for name, df in datasets:\n",
    "        data = {\n",
    "            'dataset': name,\n",
    "            'avg_cumulative_reward': np.mean(df.cumulative_reward.to_list()),\n",
    "            'avg_waiting_time': np.mean(df.mean_waiting_time.to_list()),\n",
    "            'avg_speed': np.mean(df.mean_speed.to_list()),\n",
    "            'avg_lane_density': np.mean(df.mean_lane_density.to_list()),\n",
    "        }\n",
    "        results.append(data)\n",
    "    return pd.DataFrame(results)\n",
    "compare_datasets([\n",
    "    ('ppo', df_multiple_episodes_ppo),\n",
    "    ('option-critic', df_multiple_episodes_oc),\n",
    "    ('option-critic-forced', df_multiple_episodes_forced),\n",
    "    ('option-critic-hellinger-distance', df_multiple_episodes_hd),\n",
    "])"
   ]
  },
  {
   "cell_type": "code",
   "execution_count": 11,
   "id": "46d02897",
   "metadata": {
    "scrolled": true
   },
   "outputs": [
    {
     "data": {
      "text/html": [
       "<div>\n",
       "<style scoped>\n",
       "    .dataframe tbody tr th:only-of-type {\n",
       "        vertical-align: middle;\n",
       "    }\n",
       "\n",
       "    .dataframe tbody tr th {\n",
       "        vertical-align: top;\n",
       "    }\n",
       "\n",
       "    .dataframe thead th {\n",
       "        text-align: right;\n",
       "    }\n",
       "</style>\n",
       "<table border=\"1\" class=\"dataframe\">\n",
       "  <thead>\n",
       "    <tr style=\"text-align: right;\">\n",
       "      <th></th>\n",
       "      <th>cumulative_reward</th>\n",
       "      <th>average_cumulative_reward</th>\n",
       "      <th>mean_waiting_time</th>\n",
       "      <th>mean_speed</th>\n",
       "      <th>mean_lane_density</th>\n",
       "    </tr>\n",
       "    <tr>\n",
       "      <th>episode</th>\n",
       "      <th></th>\n",
       "      <th></th>\n",
       "      <th></th>\n",
       "      <th></th>\n",
       "      <th></th>\n",
       "    </tr>\n",
       "  </thead>\n",
       "  <tbody>\n",
       "    <tr>\n",
       "      <th>0</th>\n",
       "      <td>-1140.00</td>\n",
       "      <td>-1140.000000</td>\n",
       "      <td>2278.575077</td>\n",
       "      <td>0.705705</td>\n",
       "      <td>6.094043</td>\n",
       "    </tr>\n",
       "    <tr>\n",
       "      <th>1</th>\n",
       "      <td>-100.58</td>\n",
       "      <td>-106.257372</td>\n",
       "      <td>77.534080</td>\n",
       "      <td>1.565623</td>\n",
       "      <td>6.674088</td>\n",
       "    </tr>\n",
       "    <tr>\n",
       "      <th>2</th>\n",
       "      <td>-1140.00</td>\n",
       "      <td>-1140.000000</td>\n",
       "      <td>2287.364119</td>\n",
       "      <td>0.752407</td>\n",
       "      <td>6.113127</td>\n",
       "    </tr>\n",
       "    <tr>\n",
       "      <th>3</th>\n",
       "      <td>-91.36</td>\n",
       "      <td>-94.623744</td>\n",
       "      <td>14.415151</td>\n",
       "      <td>1.729533</td>\n",
       "      <td>6.703792</td>\n",
       "    </tr>\n",
       "    <tr>\n",
       "      <th>4</th>\n",
       "      <td>-1140.00</td>\n",
       "      <td>-1140.000000</td>\n",
       "      <td>2192.021300</td>\n",
       "      <td>0.778597</td>\n",
       "      <td>6.091378</td>\n",
       "    </tr>\n",
       "    <tr>\n",
       "      <th>...</th>\n",
       "      <td>...</td>\n",
       "      <td>...</td>\n",
       "      <td>...</td>\n",
       "      <td>...</td>\n",
       "      <td>...</td>\n",
       "    </tr>\n",
       "    <tr>\n",
       "      <th>95</th>\n",
       "      <td>-1140.00</td>\n",
       "      <td>-1140.000000</td>\n",
       "      <td>2281.494822</td>\n",
       "      <td>0.743842</td>\n",
       "      <td>6.096082</td>\n",
       "    </tr>\n",
       "    <tr>\n",
       "      <th>96</th>\n",
       "      <td>-1140.00</td>\n",
       "      <td>-1140.000000</td>\n",
       "      <td>2110.673330</td>\n",
       "      <td>0.788507</td>\n",
       "      <td>6.063618</td>\n",
       "    </tr>\n",
       "    <tr>\n",
       "      <th>97</th>\n",
       "      <td>-100.51</td>\n",
       "      <td>-99.989991</td>\n",
       "      <td>14.537444</td>\n",
       "      <td>1.738016</td>\n",
       "      <td>6.818221</td>\n",
       "    </tr>\n",
       "    <tr>\n",
       "      <th>98</th>\n",
       "      <td>-98.05</td>\n",
       "      <td>-101.835510</td>\n",
       "      <td>14.574429</td>\n",
       "      <td>1.741480</td>\n",
       "      <td>6.847698</td>\n",
       "    </tr>\n",
       "    <tr>\n",
       "      <th>99</th>\n",
       "      <td>-85.22</td>\n",
       "      <td>-90.722702</td>\n",
       "      <td>15.024958</td>\n",
       "      <td>1.725379</td>\n",
       "      <td>6.757204</td>\n",
       "    </tr>\n",
       "  </tbody>\n",
       "</table>\n",
       "<p>100 rows × 5 columns</p>\n",
       "</div>"
      ],
      "text/plain": [
       "         cumulative_reward  average_cumulative_reward  mean_waiting_time  \\\n",
       "episode                                                                    \n",
       "0                 -1140.00               -1140.000000        2278.575077   \n",
       "1                  -100.58                -106.257372          77.534080   \n",
       "2                 -1140.00               -1140.000000        2287.364119   \n",
       "3                   -91.36                 -94.623744          14.415151   \n",
       "4                 -1140.00               -1140.000000        2192.021300   \n",
       "...                    ...                        ...                ...   \n",
       "95                -1140.00               -1140.000000        2281.494822   \n",
       "96                -1140.00               -1140.000000        2110.673330   \n",
       "97                 -100.51                 -99.989991          14.537444   \n",
       "98                  -98.05                -101.835510          14.574429   \n",
       "99                  -85.22                 -90.722702          15.024958   \n",
       "\n",
       "         mean_speed  mean_lane_density  \n",
       "episode                                 \n",
       "0          0.705705           6.094043  \n",
       "1          1.565623           6.674088  \n",
       "2          0.752407           6.113127  \n",
       "3          1.729533           6.703792  \n",
       "4          0.778597           6.091378  \n",
       "...             ...                ...  \n",
       "95         0.743842           6.096082  \n",
       "96         0.788507           6.063618  \n",
       "97         1.738016           6.818221  \n",
       "98         1.741480           6.847698  \n",
       "99         1.725379           6.757204  \n",
       "\n",
       "[100 rows x 5 columns]"
      ]
     },
     "execution_count": 11,
     "metadata": {},
     "output_type": "execute_result"
    }
   ],
   "source": [
    "df_multiple_episodes_ppo"
   ]
  },
  {
   "cell_type": "code",
   "execution_count": null,
   "id": "145239f3-8d9e-443f-9dda-cd9eed189e8c",
   "metadata": {},
   "outputs": [],
   "source": [
    "df_single_episode_oc.lane_density.plot(grid=True, figsize=(15,15))"
   ]
  },
  {
   "cell_type": "code",
   "execution_count": null,
   "id": "9945e93d",
   "metadata": {},
   "outputs": [],
   "source": []
  },
  {
   "cell_type": "code",
   "execution_count": null,
   "id": "e6aecaaa",
   "metadata": {},
   "outputs": [],
   "source": []
  },
  {
   "cell_type": "code",
   "execution_count": null,
   "id": "c9d74883",
   "metadata": {},
   "outputs": [],
   "source": [
    "# Verify that the metrics are stable across multiple episodes"
   ]
  },
  {
   "cell_type": "code",
   "execution_count": null,
   "id": "4d993a1c",
   "metadata": {},
   "outputs": [],
   "source": []
  },
  {
   "cell_type": "code",
   "execution_count": null,
   "id": "82bdcdc0-8c46-4514-be2a-fe01c8a7d211",
   "metadata": {},
   "outputs": [],
   "source": []
  },
  {
   "cell_type": "code",
   "execution_count": null,
   "id": "5b09f30f",
   "metadata": {},
   "outputs": [],
   "source": []
  },
  {
   "cell_type": "code",
   "execution_count": null,
   "id": "160a1d1c",
   "metadata": {},
   "outputs": [],
   "source": []
  },
  {
   "cell_type": "code",
   "execution_count": null,
   "id": "a90a11ab-5421-4435-a85b-97a8a0748173",
   "metadata": {},
   "outputs": [],
   "source": []
  },
  {
   "cell_type": "code",
   "execution_count": null,
   "id": "ea097450-f551-4861-ab21-86b3de8481ea",
   "metadata": {},
   "outputs": [],
   "source": []
  }
 ],
 "metadata": {
  "kernelspec": {
   "display_name": "Python 3 (ipykernel)",
   "language": "python",
   "name": "python3"
  },
  "language_info": {
   "codemirror_mode": {
    "name": "ipython",
    "version": 3
   },
   "file_extension": ".py",
   "mimetype": "text/x-python",
   "name": "python",
   "nbconvert_exporter": "python",
   "pygments_lexer": "ipython3",
   "version": "3.9.20"
  }
 },
 "nbformat": 4,
 "nbformat_minor": 5
}
