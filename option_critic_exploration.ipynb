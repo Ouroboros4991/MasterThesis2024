{
 "cells": [
  {
   "cell_type": "code",
   "execution_count": null,
   "id": "85d19322-3809-497a-a168-c2b15ed98f38",
   "metadata": {},
   "outputs": [],
   "source": [
    "import pandas as pd\n",
    "import numpy as np\n",
    "import shap\n",
    "import torch\n",
    "from torch import nn\n",
    "import scipy.stats\n",
    "import matplotlib.pyplot as plt\n",
    "import plotly.express as px\n",
    "\n",
    "import json\n",
    "import xmltodict\n",
    "\n",
    "from agents.option_critic import OptionCriticFeatures"
   ]
  },
  {
   "cell_type": "code",
   "execution_count": null,
   "id": "650c22eb-945c-4021-a4c8-023d1ee06822",
   "metadata": {
    "scrolled": true
   },
   "outputs": [],
   "source": []
  },
  {
   "cell_type": "code",
   "execution_count": null,
   "id": "00588c02-be7e-442c-b394-3bd761c5d6f0",
   "metadata": {},
   "outputs": [],
   "source": [
    "BASE_FOLDER = './outputs/evaluation'"
   ]
  },
  {
   "cell_type": "code",
   "execution_count": null,
   "id": "68d513c2",
   "metadata": {},
   "outputs": [],
   "source": []
  },
  {
   "cell_type": "code",
   "execution_count": null,
   "id": "c3d663a4-8e0e-40fb-adf2-abce33242d97",
   "metadata": {},
   "outputs": [],
   "source": [
    "def to_tensor(obs):\n",
    "    obs = np.asarray(obs)\n",
    "    obs = torch.from_numpy(obs).float()\n",
    "    return obs\n",
    "\n",
    "def load_data(prefix, traffic):\n",
    "    df_single_episode = pd.read_csv(f'{BASE_FOLDER}/{prefix}_1_episode_{traffic}.csv')\n",
    "    df_single_episode = df_single_episode.set_index('step')\n",
    "    df_single_episode = df_single_episode.drop(columns=['cumulative_reward'])\n",
    "    \n",
    "    df_multiple_episodes = pd.read_csv(f'{BASE_FOLDER}/{prefix}_100_episode_{traffic}.csv')\n",
    "    df_multiple_episodes = df_multiple_episodes.set_index('episode')\n",
    "    # df_multiple_episodes = df_multiple_episodes.drop(columns=['cumulative_reward'])\n",
    "    return df_single_episode, df_multiple_episodes\n",
    "\n",
    "def extract_obs_data(df):\n",
    "    # Convert obs and probabilities to separate dataset\n",
    "    obs = []\n",
    "    prob = df.termination_prob.to_list()\n",
    "    options = df.option.to_list()\n",
    "    for step, item in enumerate(df.obs.tolist()):\n",
    "        item = [float(s.strip()) for s in item.split(',')]\n",
    "        data = {\n",
    "            'option': options[step],\n",
    "            'prob': prob[step],\n",
    "            'min_green': item[4]\n",
    "        }\n",
    "        for i in range(0, 4):\n",
    "            data[f'green_light_{i}'] = item[i]\n",
    "        for i in range(8):\n",
    "            item_index = i + 5\n",
    "            data[f'lane_{i}_density'] = item[item_index]\n",
    "            item_index2 = i + 13\n",
    "            data[f'lane_{i}_queue'] = item[item_index2]\n",
    "        obs.append(data)        \n",
    "    df_probs_obs = pd.DataFrame(obs)\n",
    "    return df_probs_obs"
   ]
  },
  {
   "cell_type": "code",
   "execution_count": null,
   "id": "d5472fad-c488-45bb-92e3-b73fc2aafb30",
   "metadata": {},
   "outputs": [],
   "source": [
    "df_single_episode, _ = load_data('oc_2way_500k_steps', 'custom-2way-single-intersection')"
   ]
  },
  {
   "cell_type": "code",
   "execution_count": null,
   "id": "624cbf52",
   "metadata": {},
   "outputs": [],
   "source": [
    "# df_single_episode, _ = load_data('oc_hd_500k_steps', 'custom-2way-single-intersection')"
   ]
  },
  {
   "cell_type": "code",
   "execution_count": null,
   "id": "c27c86ff",
   "metadata": {},
   "outputs": [],
   "source": [
    "df_probs_obs = extract_obs_data(df_single_episode)"
   ]
  },
  {
   "cell_type": "code",
   "execution_count": null,
   "id": "554b8486",
   "metadata": {},
   "outputs": [],
   "source": [
    "# Visualisations"
   ]
  },
  {
   "cell_type": "code",
   "execution_count": null,
   "id": "cdc9587c",
   "metadata": {
    "scrolled": true
   },
   "outputs": [],
   "source": [
    "def extract_avg(df):\n",
    "    data = []\n",
    "    for _, row in df.iterrows():\n",
    "        row = row.to_dict()\n",
    "        density = []\n",
    "        queue = []\n",
    "        record = {\n",
    "            'option': row['option']\n",
    "        }\n",
    "        for key in row:\n",
    "            if 'density' in key:\n",
    "                density.append(row[key])\n",
    "            elif 'queue' in key:\n",
    "                queue.append(row[key])\n",
    "        record['avg_density'] = np.mean(density)\n",
    "        record['avg_queue'] = np.mean(queue)\n",
    "        data.append(record)\n",
    "    return pd.DataFrame(data)\n",
    "df_avgs = extract_avg(df_probs_obs)\n",
    "df_avgs.plot.scatter(x='avg_density', y='avg_queue', c='option', figsize=(15,15))"
   ]
  },
  {
   "cell_type": "code",
   "execution_count": null,
   "id": "b3356b6d",
   "metadata": {
    "scrolled": false
   },
   "outputs": [],
   "source": []
  },
  {
   "cell_type": "code",
   "execution_count": null,
   "id": "bb39c391-9d86-4339-94fe-ee796628590a",
   "metadata": {
    "scrolled": true
   },
   "outputs": [],
   "source": [
    "# Correlations"
   ]
  },
  {
   "cell_type": "code",
   "execution_count": null,
   "id": "9c750ca1",
   "metadata": {},
   "outputs": [],
   "source": [
    "def calculate_correlation_df(df):\n",
    "    results = []\n",
    "    columns = df.columns\n",
    "    for column in columns:\n",
    "        if column != 'prob':\n",
    "            correlation = df['prob'].corr(df[column])\n",
    "            results.append({\n",
    "                'test': f'Correlation between prob and {column}',\n",
    "                'correlation': correlation\n",
    "            })\n",
    "    pd_correlation = pd.DataFrame(results)\n",
    "    return pd_correlation\n",
    "df_correlation = calculate_correlation_df(df_probs_obs)\n",
    "df_correlation.sort_values('correlation', ascending=False)"
   ]
  },
  {
   "cell_type": "code",
   "execution_count": null,
   "id": "76759136-48c7-4cd8-ab06-ed0f24baf028",
   "metadata": {
    "scrolled": false
   },
   "outputs": [],
   "source": [
    "df_probs_obs.cov()['prob'].sort_values(ascending=False)"
   ]
  },
  {
   "cell_type": "code",
   "execution_count": null,
   "id": "b14ee634-5282-4c5c-8eb6-cec4bb270529",
   "metadata": {
    "scrolled": true
   },
   "outputs": [],
   "source": [
    "# Shap\n",
    "feature_conversion = nn.Sequential(\n",
    "    nn.Linear(21, 32), nn.ReLU(), nn.Linear(32, 64), nn.ReLU()\n",
    ")\n",
    "\n",
    "def convert_state(obs):\n",
    "    if obs.ndim < 4:\n",
    "        obs = obs.unsqueeze(0)\n",
    "    state = feature_conversion(obs)\n",
    "    return state\n",
    "        \n",
    "class NeuralNetwork(nn.Module):\n",
    "    def __init__(self):\n",
    "        super().__init__()\n",
    "        self.flatten = nn.Flatten()\n",
    "        self.linear_relu_stack = nn.Sequential(\n",
    "            nn.Linear(64, 2)\n",
    "        )\n",
    "\n",
    "    def forward(self, x):\n",
    "        x = self.flatten(x)\n",
    "        logits = self.linear_relu_stack(x)\n",
    "        return logits\n",
    "\n",
    "    \n",
    "    \n",
    "model_params = torch.load(\n",
    "            \"./models/option_critic_2_options_custom-2way-single-intersection_500000_steps\"\n",
    "        )['model_params']\n",
    "termination_state_dict = {\n",
    "    'linear_relu_stack.0.weight': model_params['terminations.weight'],\n",
    "    'linear_relu_stack.0.bias': model_params['terminations.bias']\n",
    "}\n",
    "model = NeuralNetwork()\n",
    "model.load_state_dict(termination_state_dict)"
   ]
  },
  {
   "cell_type": "code",
   "execution_count": null,
   "id": "f3190dc4",
   "metadata": {},
   "outputs": [],
   "source": [
    "features = df_probs_obs[['green_light_0', 'green_light_1',\n",
    "       'green_light_2', 'green_light_3', 'min_green', 'lane_0_density', 'lane_0_queue',\n",
    "       'lane_1_density', 'lane_1_queue', 'lane_2_density', 'lane_2_queue',\n",
    "       'lane_3_density', 'lane_3_queue', 'lane_4_density', 'lane_4_queue',\n",
    "       'lane_5_density', 'lane_5_queue', 'lane_6_density', 'lane_6_queue',\n",
    "       'lane_7_density', 'lane_7_queue']]\n",
    "def f(X):\n",
    "    results = []\n",
    "    for record in X:\n",
    "        record = to_tensor([record])\n",
    "        state = convert_state(record)\n",
    "        prob = model(state).sigmoid()\n",
    "        max_prob = np.max(prob.detach().numpy())\n",
    "        results.append(max_prob)\n",
    "    return np.array(results)\n",
    "explainer = shap.KernelExplainer(f, features.iloc[:50, :])\n",
    "shap_values = explainer.shap_values(features.iloc[:, :], nsamples=20)"
   ]
  },
  {
   "cell_type": "code",
   "execution_count": null,
   "id": "ae376d4a",
   "metadata": {},
   "outputs": [],
   "source": [
    "shap.initjs()\n",
    "shap.force_plot(explainer.expected_value, shap_values, features)"
   ]
  },
  {
   "cell_type": "code",
   "execution_count": null,
   "id": "61ccade6",
   "metadata": {},
   "outputs": [],
   "source": [
    "shap.initjs()\n",
    "shap.decision_plot(explainer.expected_value, shap_values, features)"
   ]
  },
  {
   "cell_type": "code",
   "execution_count": null,
   "id": "ae225141",
   "metadata": {},
   "outputs": [],
   "source": []
  },
  {
   "cell_type": "code",
   "execution_count": null,
   "id": "0e0db2cc",
   "metadata": {},
   "outputs": [],
   "source": []
  },
  {
   "cell_type": "code",
   "execution_count": null,
   "id": "da3b1a38",
   "metadata": {},
   "outputs": [],
   "source": []
  },
  {
   "cell_type": "code",
   "execution_count": null,
   "id": "b66f6d28",
   "metadata": {},
   "outputs": [],
   "source": []
  },
  {
   "cell_type": "code",
   "execution_count": null,
   "id": "eeefe877",
   "metadata": {},
   "outputs": [],
   "source": [
    "def get_action_dist(model, state, option):\n",
    "    logits = state.data @ model.options_W[option] + model.options_b[option]\n",
    "    action_dist = (logits / model.temperature).softmax(dim=-1)\n",
    "    return action_dist.detach().numpy()\n",
    "\n",
    "agent = option_critic.OptionCriticFeatures(\n",
    "        in_features=env.observation_space.shape[0],\n",
    "        num_actions=env.action_space.n,\n",
    "        num_options=2,\n",
    "        temperature=0.1,\n",
    "        eps_start=0.9,\n",
    "        eps_min=0.1,\n",
    "        eps_decay=0.999,\n",
    "        eps_test=0.05,\n",
    "        device=\"cpu\",\n",
    ")\n",
    "agent.load_state_dict(\n",
    "    torch.load(\n",
    "        \"./models/option_critic_2_options_custom-2way-single-intersection_500000_steps\"\n",
    "    )[\"model_params\"]\n",
    ")"
   ]
  },
  {
   "cell_type": "code",
   "execution_count": null,
   "id": "ac26dba0",
   "metadata": {},
   "outputs": [],
   "source": [
    "random_row = df_single_episode.sample()\n",
    "obs = [float(s.strip()) for s in random_row.obs.to_list()[0].split(',')]\n",
    "state = agent.get_state(to_tensor(obs))"
   ]
  },
  {
   "cell_type": "code",
   "execution_count": null,
   "id": "4b454867",
   "metadata": {},
   "outputs": [],
   "source": [
    "option_distributions_dict = {}\n",
    "for option in range(0, df_single_episode.option.max() + 1):\n",
    "    dist = get_action_dist(agent, state, option)[0]\n",
    "    for i, value in enumerate(dist):\n",
    "        if i not in option_distributions_dict:\n",
    "            option_distributions_dict[i] = {'action': i}\n",
    "        option_distributions_dict[i][f'prob_option_{option}'] = value        \n",
    "df_option_distributions = pd.DataFrame(list(option_distributions_dict.values()))"
   ]
  },
  {
   "cell_type": "code",
   "execution_count": null,
   "id": "8bc5ab43",
   "metadata": {},
   "outputs": [],
   "source": [
    "state"
   ]
  },
  {
   "cell_type": "code",
   "execution_count": null,
   "id": "a41848d2",
   "metadata": {
    "scrolled": true
   },
   "outputs": [],
   "source": [
    "px.bar(\n",
    "    data_frame = df_option_distributions,\n",
    "    x = \"action\",\n",
    "    y = [\"prob_option_0\", \"prob_option_1\"],\n",
    "    opacity = 0.9,\n",
    "    orientation = \"v\",\n",
    "    barmode = 'group',\n",
    ")"
   ]
  },
  {
   "cell_type": "code",
   "execution_count": null,
   "id": "0eeede02",
   "metadata": {
    "scrolled": true
   },
   "outputs": [],
   "source": []
  },
  {
   "cell_type": "code",
   "execution_count": null,
   "id": "cd37a5bd",
   "metadata": {},
   "outputs": [],
   "source": []
  },
  {
   "cell_type": "code",
   "execution_count": null,
   "id": "a42ec938",
   "metadata": {},
   "outputs": [],
   "source": []
  },
  {
   "cell_type": "code",
   "execution_count": null,
   "id": "c50fca9e",
   "metadata": {},
   "outputs": [],
   "source": [
    "df_action_encoded = pd.get_dummies(df_single_episode[['action', 'option']], columns=['action', ])"
   ]
  },
  {
   "cell_type": "code",
   "execution_count": null,
   "id": "ce3b86f2",
   "metadata": {},
   "outputs": [],
   "source": [
    "df_action_encoded.groupby('option').sum()"
   ]
  },
  {
   "cell_type": "code",
   "execution_count": null,
   "id": "e6603bdf",
   "metadata": {},
   "outputs": [],
   "source": []
  },
  {
   "cell_type": "code",
   "execution_count": null,
   "id": "ecca80d2",
   "metadata": {},
   "outputs": [],
   "source": []
  },
  {
   "cell_type": "code",
   "execution_count": null,
   "id": "7e723cc1",
   "metadata": {},
   "outputs": [],
   "source": []
  },
  {
   "cell_type": "code",
   "execution_count": null,
   "id": "096f7e6d",
   "metadata": {},
   "outputs": [],
   "source": []
  },
  {
   "cell_type": "code",
   "execution_count": null,
   "id": "0703a940",
   "metadata": {},
   "outputs": [],
   "source": []
  },
  {
   "cell_type": "code",
   "execution_count": null,
   "id": "5dd7be3c",
   "metadata": {},
   "outputs": [],
   "source": []
  },
  {
   "cell_type": "code",
   "execution_count": null,
   "id": "bf61626e",
   "metadata": {},
   "outputs": [],
   "source": []
  },
  {
   "cell_type": "code",
   "execution_count": null,
   "id": "4a087f4e",
   "metadata": {},
   "outputs": [],
   "source": []
  },
  {
   "cell_type": "code",
   "execution_count": null,
   "id": "df3b7836",
   "metadata": {},
   "outputs": [],
   "source": []
  },
  {
   "cell_type": "code",
   "execution_count": null,
   "id": "9b27f279",
   "metadata": {
    "scrolled": true
   },
   "outputs": [],
   "source": []
  },
  {
   "cell_type": "code",
   "execution_count": null,
   "id": "a0ad5f4f",
   "metadata": {},
   "outputs": [],
   "source": []
  },
  {
   "cell_type": "code",
   "execution_count": null,
   "id": "4b048fad",
   "metadata": {},
   "outputs": [],
   "source": []
  },
  {
   "cell_type": "code",
   "execution_count": null,
   "id": "63e64718",
   "metadata": {},
   "outputs": [],
   "source": []
  },
  {
   "cell_type": "code",
   "execution_count": null,
   "id": "75f4cf77-27c7-4625-9f8e-84a484a7cb44",
   "metadata": {
    "scrolled": true
   },
   "outputs": [],
   "source": []
  },
  {
   "cell_type": "code",
   "execution_count": null,
   "id": "a582622a-4f19-4b3f-9b09-092aff73d486",
   "metadata": {
    "scrolled": true
   },
   "outputs": [],
   "source": []
  },
  {
   "cell_type": "code",
   "execution_count": null,
   "id": "97e79ce8",
   "metadata": {},
   "outputs": [],
   "source": []
  },
  {
   "cell_type": "code",
   "execution_count": null,
   "id": "9694d813",
   "metadata": {
    "scrolled": true
   },
   "outputs": [],
   "source": []
  },
  {
   "cell_type": "code",
   "execution_count": null,
   "id": "9d08bc1c-da3b-4ff1-ab81-017bfb5b5284",
   "metadata": {},
   "outputs": [],
   "source": []
  },
  {
   "cell_type": "code",
   "execution_count": null,
   "id": "92b148b9-be86-4e44-b3d5-173b950d7b39",
   "metadata": {},
   "outputs": [],
   "source": []
  },
  {
   "cell_type": "code",
   "execution_count": null,
   "id": "20330b30-0310-416a-ae01-29a9abed00c4",
   "metadata": {},
   "outputs": [],
   "source": []
  },
  {
   "cell_type": "code",
   "execution_count": null,
   "id": "deae88b0-1be6-4b34-a94e-6b9814f4812e",
   "metadata": {},
   "outputs": [],
   "source": []
  },
  {
   "cell_type": "code",
   "execution_count": null,
   "id": "89c3608c-8dda-4b42-b735-e82cb17c3ca5",
   "metadata": {},
   "outputs": [],
   "source": []
  },
  {
   "cell_type": "code",
   "execution_count": null,
   "id": "61ef9a96-3a62-4def-9231-55e1213bd154",
   "metadata": {},
   "outputs": [],
   "source": [
    "lanes = ['n_t_0', 'n_t_1', 'e_t_0', 'e_t_1', 's_t_0', 's_t_1', 'w_t_0', 'w_t_1']\n",
    "          0          1         2       3         4         5     6        7"
   ]
  },
  {
   "cell_type": "code",
   "execution_count": null,
   "id": "6fd589f1-f522-47a4-ae2c-54afa079185e",
   "metadata": {},
   "outputs": [],
   "source": [
    "# backup\n",
    "option_distributions = []\n",
    "for option in range(0, df_single_episode.option.max() + 1):\n",
    "    dist = get_action_dist(agent, state, option)[0]\n",
    "    for i, value in enumerate(dist):\n",
    "        dist_dict = {\n",
    "            'option': option\n",
    "        }\n",
    "        dist_dict[f'action'] = i\n",
    "        dist_dict[f'prob'] = value\n",
    "        option_distributions.append(dist_dict)\n",
    "df_option_distributions = pd.DataFrame(option_distributions)\n",
    "fig, ax = plt.subplots()\n",
    "\n",
    "for key, grp in df_option_distributions.groupby(['option']):\n",
    "    key = key[0]\n",
    "    ax = grp.plot(ax=ax, kind='line', x='action', y='prob', label=key)\n",
    "\n",
    "plt.legend(loc='best')\n",
    "plt.show()"
   ]
  }
 ],
 "metadata": {
  "kernelspec": {
   "display_name": "vub_sdms",
   "language": "python",
   "name": "vub_sdms"
  },
  "language_info": {
   "codemirror_mode": {
    "name": "ipython",
    "version": 3
   },
   "file_extension": ".py",
   "mimetype": "text/x-python",
   "name": "python",
   "nbconvert_exporter": "python",
   "pygments_lexer": "ipython3",
   "version": "3.9.20"
  }
 },
 "nbformat": 4,
 "nbformat_minor": 5
}
